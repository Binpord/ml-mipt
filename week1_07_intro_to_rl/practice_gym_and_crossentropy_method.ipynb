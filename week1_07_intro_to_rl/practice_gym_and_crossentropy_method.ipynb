{
 "cells": [
  {
   "cell_type": "markdown",
   "metadata": {
    "id": "QuXufW6hAlo-"
   },
   "source": [
    "# Practice: gym interface and crossentropy method\n",
    "\n",
    "_Reference:_ This notebook is based on Practical RL [week01](https://github.com/yandexdataschool/Practical_RL/tree/master/week01_intro)"
   ]
  },
  {
   "cell_type": "code",
   "execution_count": 1,
   "metadata": {
    "colab": {
     "base_uri": "https://localhost:8080/"
    },
    "id": "Aw_mjq4C9i-N",
    "outputId": "c08a7528-bcdb-42df-f891-944b1f690749"
   },
   "outputs": [
    {
     "name": "stdout",
     "output_type": "stream",
     "text": [
      "Starting virtual X frame buffer: Xvfb.\n"
     ]
    }
   ],
   "source": [
    "import sys, os\n",
    "\n",
    "if \"google.colab\" in sys.modules and not os.path.exists(\".setup_complete\"):\n",
    "    !wget -q https://raw.githubusercontent.com/yandexdataschool/Practical_RL/master/setup_colab.sh -O- | bash\n",
    "    !touch .setup_complete\n",
    "\n",
    "# This code creates a virtual display to draw game images on.\n",
    "# It will have no effect if your machine has a monitor.\n",
    "if type(os.environ.get(\"DISPLAY\")) is not str or len(os.environ.get(\"DISPLAY\")) == 0:\n",
    "    !bash ../xvfb start\n",
    "    os.environ[\"DISPLAY\"] = \":1\""
   ]
  },
  {
   "cell_type": "markdown",
   "metadata": {
    "id": "ftOrVNgg9i-O"
   },
   "source": [
    "## OpenAI Gym"
   ]
  },
  {
   "cell_type": "markdown",
   "metadata": {
    "id": "Mg6tdsNtA9hl"
   },
   "source": [
    "We're gonna spend several next weeks learning algorithms that solve decision processes. We are then in need of some interesting decision problems to test our algorithms.\n",
    "\n",
    "That's where OpenAI Gym comes into play. It's a Python library that wraps many classical decision problems including robot control, videogames and board games.\n",
    "\n",
    "So here's how it works:"
   ]
  },
  {
   "cell_type": "code",
   "execution_count": 2,
   "metadata": {
    "colab": {
     "base_uri": "https://localhost:8080/",
     "height": 303
    },
    "id": "qgUa6Yz89i-Q",
    "outputId": "40289f64-729f-47ac-a772-7cf020f8836d"
   },
   "outputs": [
    {
     "name": "stdout",
     "output_type": "stream",
     "text": [
      "Observation space: Box(-1.2000000476837158, 0.6000000238418579, (2,), float32)\n",
      "Action space: Discrete(3)\n"
     ]
    },
    {
     "data": {
      "image/png": "[encoded data removed]",
      "text/plain": [
       "<Figure size 432x288 with 1 Axes>"
      ]
     },
     "metadata": {
      "needs_background": "light"
     },
     "output_type": "display_data"
    }
   ],
   "source": [
    "import gym\n",
    "import matplotlib.pyplot as plt\n",
    "\n",
    "env = gym.make(\"MountainCar-v0\")\n",
    "env.reset()\n",
    "\n",
    "print(\"Observation space:\", env.observation_space)\n",
    "print(\"Action space:\", env.action_space)\n",
    "plt.imshow(env.render(\"rgb_array\"));"
   ]
  },
  {
   "cell_type": "markdown",
   "metadata": {
    "id": "PRTK8yeU9i-R"
   },
   "source": [
    "### Gym interface"
   ]
  },
  {
   "cell_type": "markdown",
   "metadata": {
    "id": "UMWiCMVIVPTI"
   },
   "source": [
    "The three main methods of an environment are\n",
    "* `reset()`: reset environment to the initial state, and _return it_\n",
    "* `render()`: show current environment state (a more colorful version)\n",
    "* `step(a)`: commit action `a` and return `(new_state, reward, is_done, info)`\n",
    " * `new_state`: the new state right after committing the action `a`\n",
    " * `reward`: a number representing your reward for committing action `a`\n",
    " * `is_done`: True if the MDP has just finished, False if still in progress\n",
    " * `info`: some auxiliary stuff about what just happened. For now, ignore it."
   ]
  },
  {
   "cell_type": "code",
   "execution_count": 3,
   "metadata": {
    "colab": {
     "base_uri": "https://localhost:8080/"
    },
    "id": "AhGD7yXr9i-R",
    "outputId": "dea00603-a9c3-44ca-a9da-2306ccfbcdcb"
   },
   "outputs": [
    {
     "name": "stdout",
     "output_type": "stream",
     "text": [
      "initial state: [-0.47208826  0.        ]\n"
     ]
    }
   ],
   "source": [
    "state = env.reset()\n",
    "print(\"initial state:\", state)"
   ]
  },
  {
   "cell_type": "markdown",
   "metadata": {
    "id": "I9WYWMRvrl5r"
   },
   "source": [
    "In MountainCar, observation is just two numbers: car position and velocity.\n",
    "\n",
    "Let's take action 2, which stands for \"go right\"."
   ]
  },
  {
   "cell_type": "code",
   "execution_count": 4,
   "metadata": {
    "colab": {
     "base_uri": "https://localhost:8080/"
    },
    "id": "pSs_w9Lu9i-S",
    "outputId": "663a65c8-6d40-4858-958e-b02f5510b392"
   },
   "outputs": [
    {
     "name": "stdout",
     "output_type": "stream",
     "text": [
      "taking action 2 (right)\n",
      "new state: [-0.47147305  0.00061521]\n",
      "reward: -1.0\n",
      "is game over?: False\n"
     ]
    }
   ],
   "source": [
    "print(\"taking action 2 (right)\")\n",
    "new_state, reward, is_done, _ = env.step(2)\n",
    "\n",
    "print(\"new state:\", new_state)\n",
    "print(\"reward:\", reward)\n",
    "print(\"is game over?:\", is_done)"
   ]
  },
  {
   "cell_type": "markdown",
   "metadata": {
    "id": "L1CLfCf6rpx8"
   },
   "source": [
    "As you can see, the car has moved to the right slightly (around 0.0005)."
   ]
  },
  {
   "cell_type": "markdown",
   "metadata": {
    "id": "WS56PCMa9i-S"
   },
   "source": [
    "### Play with it"
   ]
  },
  {
   "cell_type": "markdown",
   "metadata": {
    "id": "KrL9_D56VXSI"
   },
   "source": [
    "Below is the code that drives the car to the right. However, if you simply use the default policy, the car will not reach the flag at the far right due to gravity.\n",
    "\n",
    "__Your task__ is to fix it. Find a strategy that reaches the flag. \n",
    "\n",
    "You are not required to build any sophisticated algorithms for now, and you definitely don't need to know any reinforcement learning for this. Feel free to hard-code :)"
   ]
  },
  {
   "cell_type": "code",
   "execution_count": 5,
   "metadata": {
    "id": "_CaEYOrf9i-T"
   },
   "outputs": [],
   "source": [
    "actions = {\"left\": 0, \"stop\": 1, \"right\": 2}\n",
    "\n",
    "def policy(state, time_step):\n",
    "    # Write the code for your policy here. You can use the current state\n",
    "    # (a tuple of position and velocity), the current time step, or both,\n",
    "    # if you want.\n",
    "    position, velocity = state\n",
    "    \n",
    "    # This is an example policy. You can try running it, but it will not work.\n",
    "    # Your goal is to fix that. You don't need anything sophisticated here,\n",
    "    # and you can hard-code any policy that seems to work.\n",
    "\n",
    "    # YOUR CODE HERE\n",
    "    # Hint: think how you would make a swing go farther and faster.\n",
    "    if velocity < 0:\n",
    "        return actions[\"left\"]\n",
    "\n",
    "    return actions[\"right\"]"
   ]
  },
  {
   "cell_type": "code",
   "execution_count": 6,
   "metadata": {
    "colab": {
     "base_uri": "https://localhost:8080/",
     "height": 286
    },
    "id": "k02kqprA9i-T",
    "outputId": "df3c3f14-c430-44ff-b444-c6e3ddd92df8"
   },
   "outputs": [
    {
     "data": {
      "image/png": "[encoded data removed]",
      "text/plain": [
       "<Figure size 432x288 with 1 Axes>"
      ]
     },
     "metadata": {
      "needs_background": "light"
     },
     "output_type": "display_data"
    },
    {
     "name": "stdout",
     "output_type": "stream",
     "text": [
      "Well done!\n"
     ]
    }
   ],
   "source": [
    "from IPython.display import clear_output, display\n",
    "\n",
    "state = env.reset()\n",
    "time_limit = 250\n",
    "for time_step in range(time_limit):\n",
    "    # Choose action based on your policy.\n",
    "    action = policy(state, time_step)\n",
    "\n",
    "    # Pass the action to the environment.\n",
    "    state, reward, done, _ = env.step(action)\n",
    "    \n",
    "    # We don't do anything with reward here because MountainCar is a very\n",
    "    # simple environment, and reward is a constant -1 (meaning that your\n",
    "    # goal is to end the episode as quickly as possible).\n",
    "\n",
    "    # Draw game image on display.\n",
    "    clear_output(wait=True)\n",
    "    plt.imshow(env.render(\"rgb_array\"))\n",
    "    plt.show()\n",
    "\n",
    "    if done:\n",
    "        print(\"Well done!\")\n",
    "        break\n",
    "else:\n",
    "    print(\"Time limit exceeded. Try again.\")"
   ]
  },
  {
   "cell_type": "markdown",
   "metadata": {
    "id": "2LYwulaIBZeH"
   },
   "source": [
    "## Crossentropy method"
   ]
  },
  {
   "cell_type": "markdown",
   "metadata": {
    "id": "H7eHzR_9Bm2K"
   },
   "source": [
    "Now that we know how does the `gym` work, let's try and solve a more complicated problem using the crossentropy method."
   ]
  },
  {
   "cell_type": "code",
   "execution_count": 7,
   "metadata": {
    "colab": {
     "base_uri": "https://localhost:8080/"
    },
    "id": "boirRXNq--s-",
    "outputId": "4c96c347-c5f0-4f50-b8be-e6260db65d73"
   },
   "outputs": [
    {
     "name": "stdout",
     "output_type": "stream",
     "text": [
      "+---------+\n",
      "|\u001b[35mR\u001b[0m: | : :G|\n",
      "|\u001b[43m \u001b[0m: | : : |\n",
      "| : : : : |\n",
      "| | : | : |\n",
      "|\u001b[34;1mY\u001b[0m| : |B: |\n",
      "+---------+\n",
      "\n"
     ]
    }
   ],
   "source": [
    "env = gym.make(\"Taxi-v3\")\n",
    "env.reset()\n",
    "env.render()"
   ]
  },
  {
   "cell_type": "markdown",
   "metadata": {
    "id": "mU66aOiPdVVY"
   },
   "source": [
    "As `Taxi-v3` is a much more sophisticated environment, it presents us with more possible states and actions at our disposal."
   ]
  },
  {
   "cell_type": "code",
   "execution_count": 8,
   "metadata": {
    "colab": {
     "base_uri": "https://localhost:8080/"
    },
    "id": "O9l4J5bpB04k",
    "outputId": "872fd302-ea61-45c8-98c8-2289a4ff8548"
   },
   "outputs": [
    {
     "name": "stdout",
     "output_type": "stream",
     "text": [
      "n_states=500, n_actions=6\n"
     ]
    }
   ],
   "source": [
    "n_states, n_actions = env.observation_space.n, env.action_space.n\n",
    "print(f\"n_states={n_states}, n_actions={n_actions}\")"
   ]
  },
  {
   "cell_type": "markdown",
   "metadata": {
    "id": "hxLN1ZxmdxcI"
   },
   "source": [
    "That's definitely a lot. Way too much to hard-code as we did with previous problem. Let's use the crossentropy method on this one."
   ]
  },
  {
   "cell_type": "markdown",
   "metadata": {
    "id": "FExaEKW-Vf2j"
   },
   "source": [
    "### Create stochastic policy"
   ]
  },
  {
   "cell_type": "markdown",
   "metadata": {
    "id": "s3B63b1fVl6C"
   },
   "source": [
    "This time our policy should be a probability distribution.\n",
    "\n",
    "```policy[s, a] = P(take action a | in state s)```\n",
    "\n",
    "Since we still use integer state and action representations, you can use a 2-dimensional array to represent the policy.\n",
    "\n",
    "Please initialize policy __uniformly__, that is, probabililities of all actions should be equal."
   ]
  },
  {
   "cell_type": "code",
   "execution_count": 9,
   "metadata": {
    "id": "Q_TzXJVHVlY3"
   },
   "outputs": [],
   "source": [
    "import numpy as np\n",
    "\n",
    "def initialize_policy(n_states, n_actions):\n",
    "    # YOUR CODE HERE\n",
    "    # Create an array to store action probabilities\n",
    "    policy = np.full([n_states, n_actions], 1 / n_actions)\n",
    "    \n",
    "    return policy"
   ]
  },
  {
   "cell_type": "code",
   "execution_count": 10,
   "metadata": {
    "id": "a99xkrpd0pbX"
   },
   "outputs": [],
   "source": [
    "policy = initialize_policy(n_states, n_actions)\n",
    "assert isinstance(policy, np.ndarray)\n",
    "assert np.allclose(policy, 1 / n_actions)\n",
    "assert np.allclose(np.sum(policy, axis=1), 1)"
   ]
  },
  {
   "cell_type": "markdown",
   "metadata": {
    "id": "THBVPqvOW2OA"
   },
   "source": [
    "### Play the game"
   ]
  },
  {
   "cell_type": "markdown",
   "metadata": {
    "id": "zOgE_1xMXQ61"
   },
   "source": [
    "Let's play the game just like before, however this time we will also record states, actions and rewards to use them in training loop."
   ]
  },
  {
   "cell_type": "code",
   "execution_count": 11,
   "metadata": {
    "id": "6QBRMMZeW38F"
   },
   "outputs": [],
   "source": [
    "def generate_session(env, policy, time_limit=10**4):\n",
    "    state = env.reset()\n",
    "    states, actions = [], []\n",
    "    total_reward = 0.\n",
    "    for _ in range(time_limit):\n",
    "        # YOUR CODE HERE\n",
    "        # Choose action based on policy and take it.\n",
    "        # Hint: you can use np.random.choice for sampling action\n",
    "        # https://numpy.org/doc/stable/reference/random/generated/numpy.random.choice.html\n",
    "        action = np.random.choice(n_actions, p=policy[state])\n",
    "        new_state, reward, done, _ = env.step(action)\n",
    "\n",
    "        # Record information we just got from the environment.\n",
    "        states.append(state)\n",
    "        actions.append(action)\n",
    "        total_reward += reward\n",
    "\n",
    "        state = new_state\n",
    "        if done:\n",
    "            break\n",
    "\n",
    "    return states, actions, total_reward"
   ]
  },
  {
   "cell_type": "code",
   "execution_count": 12,
   "metadata": {
    "id": "PFF98gn8Xnme"
   },
   "outputs": [],
   "source": [
    "states, actions, reward = generate_session(env, policy)\n",
    "assert isinstance(states, list) and isinstance(actions, list)\n",
    "assert len(states) == len(actions)\n",
    "assert isinstance(reward, float)"
   ]
  },
  {
   "cell_type": "markdown",
   "metadata": {
    "id": "v3KlOA04YCpj"
   },
   "source": [
    "Let's see the initial reward distribution for our \"naive\" policy."
   ]
  },
  {
   "cell_type": "code",
   "execution_count": 13,
   "metadata": {
    "colab": {
     "base_uri": "https://localhost:8080/",
     "height": 265
    },
    "id": "HP5VOP15X59V",
    "outputId": "8770716c-0b20-4ed8-9acb-38bf938c87cc"
   },
   "outputs": [
    {
     "data": {
      "image/png": "[encoded data removed]",
      "text/plain": [
       "<Figure size 432x288 with 1 Axes>"
      ]
     },
     "metadata": {
      "needs_background": "light"
     },
     "output_type": "display_data"
    }
   ],
   "source": [
    "sample_rewards = [generate_session(env, policy, time_limit=1000)[2] for _ in range(200)]\n",
    "plt.hist(sample_rewards, bins=20)\n",
    "plt.vlines([np.percentile(sample_rewards, 50)], [0], [100], label=\"50'th percentile\", color=\"green\")\n",
    "plt.vlines([np.percentile(sample_rewards, 90)], [0], [100], label=\"90'th percentile\", color=\"red\")\n",
    "plt.legend();"
   ]
  },
  {
   "cell_type": "markdown",
   "metadata": {
    "id": "c2Hbt1n1YK9G"
   },
   "source": [
    "### Crossentropy method step"
   ]
  },
  {
   "cell_type": "code",
   "execution_count": 14,
   "metadata": {
    "id": "p5WSk58tYUpp"
   },
   "outputs": [],
   "source": [
    "def select_elites(states_batch, actions_batch, rewards_batch, percentile):\n",
    "    \"\"\"\n",
    "    Select states and actions from games that have rewards >= percentile.\n",
    "\n",
    "    Compute minimum reward for session to be elite and choose elite states\n",
    "    and actions based on this threshold.\n",
    "\n",
    "    Note that states_batch and actions_batch are both 2d lists, i.e. lists\n",
    "    containing lists of states and actions from each session in batch.\n",
    "    \"\"\"\n",
    "    \n",
    "    # YOUR CODE HERE\n",
    "    # Hint: use np.precentile to compute the threshold\n",
    "    reward_threshold = np.percentile(rewards_batch, percentile)\n",
    "    elite_states = [\n",
    "        state \n",
    "        for states, reward in zip(states_batch, rewards_batch) \n",
    "        for state in states \n",
    "        if reward >= reward_threshold\n",
    "    ]\n",
    "    elite_actions = [\n",
    "        action \n",
    "        for actions, reward in zip(actions_batch, rewards_batch) \n",
    "        for action in actions \n",
    "        if reward >= reward_threshold\n",
    "    ]\n",
    "\n",
    "    return elite_states, elite_actions"
   ]
  },
  {
   "cell_type": "code",
   "execution_count": 15,
   "metadata": {
    "id": "S_779hM5eozQ"
   },
   "outputs": [],
   "source": [
    "states_batch = [\n",
    "    [1, 2, 3],     # game1\n",
    "    [4, 2, 0, 2],  # game2\n",
    "    [3, 1],        # game3\n",
    "]\n",
    "\n",
    "actions_batch = [\n",
    "    [0, 2, 4],     # game1\n",
    "    [3, 2, 0, 1],  # game2\n",
    "    [3, 3],        # game3\n",
    "]\n",
    "rewards_batch = [\n",
    "    3,  # game1\n",
    "    4,  # game2\n",
    "    5,  # game3\n",
    "]\n",
    "\n",
    "test_result_0 = select_elites(states_batch, actions_batch, rewards_batch, percentile=0)\n",
    "test_result_30 = select_elites(states_batch, actions_batch, rewards_batch, percentile=30)\n",
    "test_result_90 = select_elites(states_batch, actions_batch, rewards_batch, percentile=90)\n",
    "test_result_100 = select_elites(states_batch, actions_batch, rewards_batch, percentile=100)\n",
    "\n",
    "assert (\n",
    "    np.all(test_result_0[0] == [1, 2, 3, 4, 2, 0, 2, 3, 1])\n",
    "    and np.all(test_result_0[1] == [0, 2, 4, 3, 2, 0, 1, 3, 3])\n",
    "), \"For percentile 0 you should return all states and actions in chronological order\"\n",
    "assert (\n",
    "    np.all(test_result_30[0] == [4, 2, 0, 2, 3, 1])\n",
    "    and np.all(test_result_30[1] == [3, 2, 0, 1, 3, 3])\n",
    "), \"For percentile 30 you should only select states/actions from two first\"\n",
    "assert (\n",
    "    np.all(test_result_90[0] == [3, 1])\n",
    "    and np.all(test_result_90[1] == [3, 3])\n",
    "), \"For percentile 90 you should only select states/actions from one game\"\n",
    "assert (\n",
    "    np.all(test_result_100[0] == [3, 1])\n",
    "    and np.all(test_result_100[1] == [3, 3])\n",
    "), \"Please make sure you use >=, not >. Also double-check how you compute percentile.\""
   ]
  },
  {
   "cell_type": "code",
   "execution_count": 16,
   "metadata": {
    "id": "PMQ00-p6UN3v"
   },
   "outputs": [],
   "source": [
    "def get_new_policy(elite_states, elite_actions):\n",
    "    \"\"\"\n",
    "    Given a list of elite states/actions from select_elites, return a new\n",
    "    policy where each action probability is proportional to\n",
    "\n",
    "        policy[s, a] ~ #[occurrences of s and a in elite states/actions]\n",
    "\n",
    "    Don't forget to normalize the policy to get valid probabilities.\n",
    "    For states that you never visited, use a uniform distribution.\n",
    "    \"\"\"\n",
    "\n",
    "    new_policy = np.zeros([n_states, n_actions])\n",
    "\n",
    "    # YOUR CODE HERE\n",
    "    # Set probabilities for actions given elite states & actions.\n",
    "    # Don't forget to set 1/n_actions for all actions in unvisited states.\n",
    "    for state, action in zip(elite_states, elite_actions):\n",
    "        new_policy[state, action] += 1\n",
    "\n",
    "    for state in np.where(np.sum(new_policy, axis=1) < 1):\n",
    "        new_policy[state, :] = 1\n",
    "\n",
    "    new_policy /= np.sum(new_policy, axis=1, keepdims=True)\n",
    "    \n",
    "    return new_policy"
   ]
  },
  {
   "cell_type": "code",
   "execution_count": 17,
   "metadata": {
    "id": "As4H-gOXUg5R"
   },
   "outputs": [],
   "source": [
    "elite_states = [1, 2, 3, 4, 2, 0, 2, 3, 1]\n",
    "elite_actions = [0, 2, 4, 3, 2, 0, 1, 3, 3]\n",
    "new_policy = get_new_policy(elite_states, elite_actions)\n",
    "\n",
    "assert np.isfinite(new_policy).all(), (\n",
    "    \"Your new policy contains NaNs or +-inf. Make sure you don't divide by zero.\"\n",
    ")\n",
    "assert np.all(new_policy >= 0), (\n",
    "    \"Your new policy can't have negative action probabilities\"\n",
    ")\n",
    "assert np.allclose(new_policy.sum(axis=-1), 1), (\n",
    "    \"Your new policy should be a valid probability distribution over actions\"\n",
    ")\n",
    "\n",
    "reference_answer = np.array(\n",
    "    [\n",
    "        [1.,  0.,  0.,  0.,  0.],\n",
    "        [0.5,  0.,  0.,  0.5,  0.],\n",
    "        [0.,  0.33333333,  0.66666667,  0.,  0.],\n",
    "        [0.,  0.,  0.,  0.5,  0.5]\n",
    "    ]\n",
    ")\n",
    "assert np.allclose(new_policy[:4, :5], reference_answer)"
   ]
  },
  {
   "cell_type": "markdown",
   "metadata": {
    "id": "j4SYwLlztaLv"
   },
   "source": [
    "### Training loop"
   ]
  },
  {
   "cell_type": "markdown",
   "metadata": {
    "id": "v3E8Jf0ttdUw"
   },
   "source": [
    "Generate sessions, select N best and fit to those."
   ]
  },
  {
   "cell_type": "code",
   "execution_count": 18,
   "metadata": {
    "id": "T8ds_27BtEKV"
   },
   "outputs": [],
   "source": [
    "def show_progress(rewards_batch, log, percentile, reward_range=[-990, +10]):\n",
    "    \"\"\"\n",
    "    A convenience function that displays training progress. \n",
    "    No cool math here, just charts.\n",
    "    \"\"\"\n",
    "\n",
    "    mean_reward = np.mean(rewards_batch)\n",
    "    threshold = np.percentile(rewards_batch, percentile)\n",
    "    log.append([mean_reward, threshold])\n",
    "    \n",
    "    plt.figure(figsize=[8, 4])\n",
    "    plt.subplot(1, 2, 1)\n",
    "\n",
    "    mean_rewards, reward_thresholds = zip(*log)\n",
    "    plt.plot(mean_rewards, label=\"Mean rewards\")\n",
    "    plt.plot(reward_thresholds, label=\"Reward thresholds\")\n",
    "    plt.legend()\n",
    "    plt.grid()\n",
    "\n",
    "    plt.subplot(1, 2, 2)\n",
    "    plt.hist(rewards_batch, range=reward_range)\n",
    "    plt.vlines(\n",
    "        [np.percentile(rewards_batch, percentile)],\n",
    "        ymin=[0],\n",
    "        ymax=[100],\n",
    "        label=\"percentile\",\n",
    "        color=\"red\",\n",
    "    )\n",
    "    plt.legend()\n",
    "    plt.grid()\n",
    "    clear_output(wait=True)\n",
    "    print(f\"mean reward = {mean_reward:.3f}, threshold={threshold:.3f}\")\n",
    "    plt.show()"
   ]
  },
  {
   "cell_type": "code",
   "execution_count": 19,
   "metadata": {
    "id": "-uh8JpOp0yXL"
   },
   "outputs": [],
   "source": [
    "# reset policy\n",
    "policy = initialize_policy(n_states, n_actions)"
   ]
  },
  {
   "cell_type": "code",
   "execution_count": 20,
   "metadata": {
    "colab": {
     "base_uri": "https://localhost:8080/",
     "height": 282
    },
    "id": "XWwgfYHB00dE",
    "outputId": "bc74a6d0-9a0d-4375-c4c8-71b8dab91b67"
   },
   "outputs": [
    {
     "name": "stdout",
     "output_type": "stream",
     "text": [
      "mean reward = -143.376, threshold=-3.000\n"
     ]
    },
    {
     "data": {
      "image/png": "[encoded data removed]",
      "text/plain": [
       "<Figure size 576x288 with 2 Axes>"
      ]
     },
     "metadata": {
      "needs_background": "light"
     },
     "output_type": "display_data"
    }
   ],
   "source": [
    "n_sessions = 250     # sample this many sessions\n",
    "percentile = 50      # take this percent of session with highest rewards\n",
    "learning_rate = 0.5  # how quickly the policy is updated, on a scale from 0 to 1\n",
    "\n",
    "log = []\n",
    "\n",
    "for _ in range(100):\n",
    "    # YOUR CODE HERE\n",
    "    # Generate a list of n_sessions new sessions, select elites and compute\n",
    "    # new policy based on them. After that update the existing policy wrt\n",
    "    # learning rate.\n",
    "    # Note: use functions we just defined.\n",
    "    sessions = [generate_session(env, policy) for _ in range(n_sessions)]\n",
    "    states_batch, actions_batch, rewards_batch = zip(*sessions)\n",
    "\n",
    "    elite_states, elite_actions = select_elites(\n",
    "        states_batch, \n",
    "        actions_batch, \n",
    "        rewards_batch, \n",
    "        percentile\n",
    "    )\n",
    "\n",
    "    new_policy = get_new_policy(elite_states, elite_actions)\n",
    "    policy = learning_rate * new_policy + (1 - learning_rate) * policy\n",
    "\n",
    "    # display results on chart\n",
    "    show_progress(rewards_batch, log, percentile)"
   ]
  },
  {
   "cell_type": "markdown",
   "metadata": {
    "id": "xlIrztK22HqI"
   },
   "source": [
    "### Analysing the results"
   ]
  },
  {
   "cell_type": "markdown",
   "metadata": {
    "id": "Hehsmk982J70"
   },
   "source": [
    "You may have noticed that the taxi problem quickly converges from very little values to a near-optimal score and then descends back. This is caused (at least in part) by the innate randomness of the environment. Namely, the starting points of passenger/driver change from episode to episode.\n",
    "\n",
    "In such case if crossentropy policy failed to learn how to win from one distinct starting point, it will simply discard it because no sessions from that starting point will make it into the \"elites\".\n",
    "\n",
    "To mitigate that problem, you can either reduce the threshold for elite sessions (duct tape way) or change the way you evaluate strategy (theoretically correct way). For each starting state, you can sample an action randomly, and then evaluate this action by running several games starting from it and averaging the total reward. Choosing elite sessions with this kind of sampling (where each session's reward is counted as the average of the rewards of all sessions with the same starting state and action) should improve the performance of your policy."
   ]
  },
  {
   "cell_type": "markdown",
   "metadata": {
    "id": "NTClEj9c3JrE"
   },
   "source": [
    "## Deeging deeper: approximate crossentropy with neural networks"
   ]
  },
  {
   "cell_type": "markdown",
   "metadata": {
    "id": "6ZFlyLJf3TAA"
   },
   "source": [
    "In this section we'll extend your CEM implementation with neural networks! You will train a multi-layer neural network to solve simple continuous state space games.\n",
    "\n",
    "![img](https://watanimg.elwatannews.com/old_news_images/large/249765_Large_20140709045740_11.jpg)"
   ]
  },
  {
   "cell_type": "code",
   "execution_count": 21,
   "metadata": {
    "colab": {
     "base_uri": "https://localhost:8080/",
     "height": 303
    },
    "id": "eS6CtVHR1mRR",
    "outputId": "43547f97-f4a0-4062-976a-8f1c5d51de25"
   },
   "outputs": [
    {
     "name": "stdout",
     "output_type": "stream",
     "text": [
      "state vector dim = 4\n",
      "n_actions = 2\n"
     ]
    },
    {
     "data": {
      "image/png": "[encoded data removed]",
      "text/plain": [
       "<Figure size 432x288 with 1 Axes>"
      ]
     },
     "metadata": {
      "needs_background": "light"
     },
     "output_type": "display_data"
    }
   ],
   "source": [
    "# .env is to remove auto-assigned time limit wrapper\n",
    "env = gym.make(\"CartPole-v0\").env\n",
    "\n",
    "env.reset()\n",
    "n_actions = env.action_space.n\n",
    "state_dim = env.observation_space.shape[0]\n",
    "\n",
    "print(\"state vector dim =\", state_dim)\n",
    "print(\"n_actions =\", n_actions)\n",
    "plt.imshow(env.render(\"rgb_array\"));"
   ]
  },
  {
   "cell_type": "markdown",
   "metadata": {
    "id": "eiAvTBy8r9qd"
   },
   "source": [
    "Here, just like in a `MountainCar-v0`, we will be controlling a cart, which we can move right or left. However our goal here is different. In this environment we want to keep pole attached to the top of our cart from falling as long as possible."
   ]
  },
  {
   "cell_type": "markdown",
   "metadata": {
    "id": "udRr7zCW4F9B"
   },
   "source": [
    "### Neural Network Policy"
   ]
  },
  {
   "cell_type": "markdown",
   "metadata": {
    "id": "7XXRmz-B4I7L"
   },
   "source": [
    "For this assignment we'll utilize the simplified neural network implementation from [Scikit-learn](https://scikit-learn.org/stable/modules/generated/sklearn.neural_network.MLPClassifier.html). Here's what you'll need:\n",
    "* `agent.partial_fit(states, actions)` - make a single training pass over the data to increase the probability of provided `actions` in provided `states`\n",
    "* `agent.predict_proba(states)` - predict probabilities of all actions, a matrix of shape `[len(states), n_actions] `"
   ]
  },
  {
   "cell_type": "code",
   "execution_count": 22,
   "metadata": {
    "id": "e3-zE4Yp3uV8"
   },
   "outputs": [],
   "source": [
    "from sklearn.neural_network import MLPClassifier\n",
    "\n",
    "agent = MLPClassifier(\n",
    "    hidden_layer_sizes=(20, 20),\n",
    "    activation=\"tanh\",\n",
    ")\n",
    "\n",
    "# initialize agent to the dimension of state space and number of actions\n",
    "agent.partial_fit([env.reset()] * n_actions, range(n_actions), range(n_actions));"
   ]
  },
  {
   "cell_type": "markdown",
   "metadata": {
    "id": "IO3tM6wFtZr_"
   },
   "source": [
    "Despite the apparent differences, you will find the training procedure for such agent to be very similar to the one we used in the previous part. We won't even need to rewrite most of our helper functions at all! However, one thing that has changed is the way we get actions' probabilities. So let's adapt our `generate_session` function to this new agent-based policy."
   ]
  },
  {
   "cell_type": "code",
   "execution_count": 23,
   "metadata": {
    "id": "glqypTJL6PmE"
   },
   "outputs": [],
   "source": [
    "def generate_session(env, agent, time_limit=10**4):\n",
    "    state = env.reset()\n",
    "    states, actions = [], []\n",
    "    total_reward = 0.\n",
    "    for _ in range(time_limit):\n",
    "        # YOUR CODE HERE\n",
    "        # Use agent to predict a vector of action probabilities for current \n",
    "        # state and use the probabilities you predicted to pick an action.\n",
    "        # Sample actions, don't just take the most likely one!\n",
    "        # Hint: you can use np.random.choice for sampling once more\n",
    "        action_probabilities = agent.predict_proba([state]).squeeze()\n",
    "        action = np.random.choice(n_actions, p=action_probabilities)\n",
    "        new_state, reward, done, _ = env.step(action)\n",
    "\n",
    "        # Record information we just got from the environment.\n",
    "        states.append(state)\n",
    "        actions.append(action)\n",
    "        total_reward += reward\n",
    "\n",
    "        state = new_state\n",
    "        if done:\n",
    "            break\n",
    "\n",
    "    return states, actions, total_reward"
   ]
  },
  {
   "cell_type": "code",
   "execution_count": 24,
   "metadata": {
    "colab": {
     "base_uri": "https://localhost:8080/"
    },
    "id": "K6-YrqLP6L-1",
    "outputId": "f0b301df-5cf7-493a-a84a-321b28855f66"
   },
   "outputs": [
    {
     "name": "stdout",
     "output_type": "stream",
     "text": [
      "states: [[-0.0129666   0.00509268  0.03823016 -0.04055753]\n",
      " [-0.01286474  0.19964615  0.03741901 -0.32093757]\n",
      " [-0.00887182  0.39421579  0.03100025 -0.60158912]\n",
      " [-0.00098751  0.19867423  0.01896847 -0.29930508]\n",
      " [ 0.00298598  0.00328711  0.01298237 -0.00070073]]\n",
      "actions: [1, 1, 0, 0, 0]\n",
      "reward: 5.0\n"
     ]
    }
   ],
   "source": [
    "states, actions, reward = generate_session(env, agent, time_limit=5)\n",
    "print(\"states:\", np.stack(states))\n",
    "print(\"actions:\", actions)\n",
    "print(\"reward:\", reward)"
   ]
  },
  {
   "cell_type": "markdown",
   "metadata": {
    "id": "v9cj1aiN7cH-"
   },
   "source": [
    "### Training loop"
   ]
  },
  {
   "cell_type": "code",
   "execution_count": 25,
   "metadata": {
    "colab": {
     "base_uri": "https://localhost:8080/",
     "height": 572
    },
    "id": "iFpPGkXL7nCa",
    "outputId": "512a18a2-e624-4962-8e48-343a311d27e1"
   },
   "outputs": [
    {
     "name": "stdout",
     "output_type": "stream",
     "text": [
      "mean reward = 7403.650, threshold=10000.000\n"
     ]
    },
    {
     "data": {
      "image/png": "[encoded data removed]",
      "text/plain": [
       "<Figure size 576x288 with 2 Axes>"
      ]
     },
     "metadata": {
      "needs_background": "light"
     },
     "output_type": "display_data"
    },
    {
     "name": "stdout",
     "output_type": "stream",
     "text": [
      "You Win! You may stop training now via KeyboardInterrupt.\n"
     ]
    },
    {
     "ename": "KeyboardInterrupt",
     "evalue": "ignored",
     "output_type": "error",
     "traceback": [
      "\u001b[0;31m---------------------------------------------------------------------------\u001b[0m",
      "\u001b[0;31mKeyboardInterrupt\u001b[0m                         Traceback (most recent call last)",
      "\u001b[0;32m<ipython-input-25-55146930891f>\u001b[0m in \u001b[0;36m<module>\u001b[0;34m()\u001b[0m\n\u001b[1;32m      8\u001b[0m     \u001b[0;31m# Generate new sessions, select elites and update our agent.\u001b[0m\u001b[0;34m\u001b[0m\u001b[0;34m\u001b[0m\u001b[0;34m\u001b[0m\u001b[0m\n\u001b[1;32m      9\u001b[0m     \u001b[0;31m# Note: use functions we just defined.\u001b[0m\u001b[0;34m\u001b[0m\u001b[0;34m\u001b[0m\u001b[0;34m\u001b[0m\u001b[0m\n\u001b[0;32m---> 10\u001b[0;31m     \u001b[0msessions\u001b[0m \u001b[0;34m=\u001b[0m \u001b[0;34m[\u001b[0m\u001b[0mgenerate_session\u001b[0m\u001b[0;34m(\u001b[0m\u001b[0menv\u001b[0m\u001b[0;34m,\u001b[0m \u001b[0magent\u001b[0m\u001b[0;34m)\u001b[0m \u001b[0;32mfor\u001b[0m \u001b[0m_\u001b[0m \u001b[0;32min\u001b[0m \u001b[0mrange\u001b[0m\u001b[0;34m(\u001b[0m\u001b[0mn_sessions\u001b[0m\u001b[0;34m)\u001b[0m\u001b[0;34m]\u001b[0m\u001b[0;34m\u001b[0m\u001b[0;34m\u001b[0m\u001b[0m\n\u001b[0m\u001b[1;32m     11\u001b[0m     \u001b[0mstates_batch\u001b[0m\u001b[0;34m,\u001b[0m \u001b[0mactions_batch\u001b[0m\u001b[0;34m,\u001b[0m \u001b[0mrewards_batch\u001b[0m \u001b[0;34m=\u001b[0m \u001b[0mzip\u001b[0m\u001b[0;34m(\u001b[0m\u001b[0;34m*\u001b[0m\u001b[0msessions\u001b[0m\u001b[0;34m)\u001b[0m\u001b[0;34m\u001b[0m\u001b[0;34m\u001b[0m\u001b[0m\n\u001b[1;32m     12\u001b[0m \u001b[0;34m\u001b[0m\u001b[0m\n",
      "\u001b[0;32m<ipython-input-25-55146930891f>\u001b[0m in \u001b[0;36m<listcomp>\u001b[0;34m(.0)\u001b[0m\n\u001b[1;32m      8\u001b[0m     \u001b[0;31m# Generate new sessions, select elites and update our agent.\u001b[0m\u001b[0;34m\u001b[0m\u001b[0;34m\u001b[0m\u001b[0;34m\u001b[0m\u001b[0m\n\u001b[1;32m      9\u001b[0m     \u001b[0;31m# Note: use functions we just defined.\u001b[0m\u001b[0;34m\u001b[0m\u001b[0;34m\u001b[0m\u001b[0;34m\u001b[0m\u001b[0m\n\u001b[0;32m---> 10\u001b[0;31m     \u001b[0msessions\u001b[0m \u001b[0;34m=\u001b[0m \u001b[0;34m[\u001b[0m\u001b[0mgenerate_session\u001b[0m\u001b[0;34m(\u001b[0m\u001b[0menv\u001b[0m\u001b[0;34m,\u001b[0m \u001b[0magent\u001b[0m\u001b[0;34m)\u001b[0m \u001b[0;32mfor\u001b[0m \u001b[0m_\u001b[0m \u001b[0;32min\u001b[0m \u001b[0mrange\u001b[0m\u001b[0;34m(\u001b[0m\u001b[0mn_sessions\u001b[0m\u001b[0;34m)\u001b[0m\u001b[0;34m]\u001b[0m\u001b[0;34m\u001b[0m\u001b[0;34m\u001b[0m\u001b[0m\n\u001b[0m\u001b[1;32m     11\u001b[0m     \u001b[0mstates_batch\u001b[0m\u001b[0;34m,\u001b[0m \u001b[0mactions_batch\u001b[0m\u001b[0;34m,\u001b[0m \u001b[0mrewards_batch\u001b[0m \u001b[0;34m=\u001b[0m \u001b[0mzip\u001b[0m\u001b[0;34m(\u001b[0m\u001b[0;34m*\u001b[0m\u001b[0msessions\u001b[0m\u001b[0;34m)\u001b[0m\u001b[0;34m\u001b[0m\u001b[0;34m\u001b[0m\u001b[0m\n\u001b[1;32m     12\u001b[0m \u001b[0;34m\u001b[0m\u001b[0m\n",
      "\u001b[0;32m<ipython-input-23-5ff77e8067b0>\u001b[0m in \u001b[0;36mgenerate_session\u001b[0;34m(env, agent, time_limit)\u001b[0m\n\u001b[1;32m      9\u001b[0m         \u001b[0;31m# Sample actions, don't just take the most likely one!\u001b[0m\u001b[0;34m\u001b[0m\u001b[0;34m\u001b[0m\u001b[0;34m\u001b[0m\u001b[0m\n\u001b[1;32m     10\u001b[0m         \u001b[0;31m# Hint: you can use np.random.choice for sampling once more\u001b[0m\u001b[0;34m\u001b[0m\u001b[0;34m\u001b[0m\u001b[0;34m\u001b[0m\u001b[0m\n\u001b[0;32m---> 11\u001b[0;31m         \u001b[0maction_probabilities\u001b[0m \u001b[0;34m=\u001b[0m \u001b[0magent\u001b[0m\u001b[0;34m.\u001b[0m\u001b[0mpredict_proba\u001b[0m\u001b[0;34m(\u001b[0m\u001b[0;34m[\u001b[0m\u001b[0mstate\u001b[0m\u001b[0;34m]\u001b[0m\u001b[0;34m)\u001b[0m\u001b[0;34m.\u001b[0m\u001b[0msqueeze\u001b[0m\u001b[0;34m(\u001b[0m\u001b[0;34m)\u001b[0m\u001b[0;34m\u001b[0m\u001b[0;34m\u001b[0m\u001b[0m\n\u001b[0m\u001b[1;32m     12\u001b[0m         \u001b[0maction\u001b[0m \u001b[0;34m=\u001b[0m \u001b[0mnp\u001b[0m\u001b[0;34m.\u001b[0m\u001b[0mrandom\u001b[0m\u001b[0;34m.\u001b[0m\u001b[0mchoice\u001b[0m\u001b[0;34m(\u001b[0m\u001b[0mn_actions\u001b[0m\u001b[0;34m,\u001b[0m \u001b[0mp\u001b[0m\u001b[0;34m=\u001b[0m\u001b[0maction_probabilities\u001b[0m\u001b[0;34m)\u001b[0m\u001b[0;34m\u001b[0m\u001b[0;34m\u001b[0m\u001b[0m\n\u001b[1;32m     13\u001b[0m         \u001b[0mnew_state\u001b[0m\u001b[0;34m,\u001b[0m \u001b[0mreward\u001b[0m\u001b[0;34m,\u001b[0m \u001b[0mdone\u001b[0m\u001b[0;34m,\u001b[0m \u001b[0m_\u001b[0m \u001b[0;34m=\u001b[0m \u001b[0menv\u001b[0m\u001b[0;34m.\u001b[0m\u001b[0mstep\u001b[0m\u001b[0;34m(\u001b[0m\u001b[0maction\u001b[0m\u001b[0;34m)\u001b[0m\u001b[0;34m\u001b[0m\u001b[0;34m\u001b[0m\u001b[0m\n",
      "\u001b[0;32m/usr/local/lib/python3.7/dist-packages/sklearn/neural_network/_multilayer_perceptron.py\u001b[0m in \u001b[0;36mpredict_proba\u001b[0;34m(self, X)\u001b[0m\n\u001b[1;32m   1070\u001b[0m         \"\"\"\n\u001b[1;32m   1071\u001b[0m         \u001b[0mcheck_is_fitted\u001b[0m\u001b[0;34m(\u001b[0m\u001b[0mself\u001b[0m\u001b[0;34m)\u001b[0m\u001b[0;34m\u001b[0m\u001b[0;34m\u001b[0m\u001b[0m\n\u001b[0;32m-> 1072\u001b[0;31m         \u001b[0my_pred\u001b[0m \u001b[0;34m=\u001b[0m \u001b[0mself\u001b[0m\u001b[0;34m.\u001b[0m\u001b[0m_predict\u001b[0m\u001b[0;34m(\u001b[0m\u001b[0mX\u001b[0m\u001b[0;34m)\u001b[0m\u001b[0;34m\u001b[0m\u001b[0;34m\u001b[0m\u001b[0m\n\u001b[0m\u001b[1;32m   1073\u001b[0m \u001b[0;34m\u001b[0m\u001b[0m\n\u001b[1;32m   1074\u001b[0m         \u001b[0;32mif\u001b[0m \u001b[0mself\u001b[0m\u001b[0;34m.\u001b[0m\u001b[0mn_outputs_\u001b[0m \u001b[0;34m==\u001b[0m \u001b[0;36m1\u001b[0m\u001b[0;34m:\u001b[0m\u001b[0;34m\u001b[0m\u001b[0;34m\u001b[0m\u001b[0m\n",
      "\u001b[0;32m/usr/local/lib/python3.7/dist-packages/sklearn/neural_network/_multilayer_perceptron.py\u001b[0m in \u001b[0;36m_predict\u001b[0;34m(self, X)\u001b[0m\n\u001b[1;32m    665\u001b[0m             \u001b[0mThe\u001b[0m \u001b[0mdecision\u001b[0m \u001b[0mfunction\u001b[0m \u001b[0mof\u001b[0m \u001b[0mthe\u001b[0m \u001b[0msamples\u001b[0m \u001b[0;32mfor\u001b[0m \u001b[0meach\u001b[0m \u001b[0;32mclass\u001b[0m \u001b[0;32min\u001b[0m \u001b[0mthe\u001b[0m \u001b[0mmodel\u001b[0m\u001b[0;34m.\u001b[0m\u001b[0;34m\u001b[0m\u001b[0;34m\u001b[0m\u001b[0m\n\u001b[1;32m    666\u001b[0m         \"\"\"\n\u001b[0;32m--> 667\u001b[0;31m         \u001b[0mX\u001b[0m \u001b[0;34m=\u001b[0m \u001b[0mcheck_array\u001b[0m\u001b[0;34m(\u001b[0m\u001b[0mX\u001b[0m\u001b[0;34m,\u001b[0m \u001b[0maccept_sparse\u001b[0m\u001b[0;34m=\u001b[0m\u001b[0;34m[\u001b[0m\u001b[0;34m'csr'\u001b[0m\u001b[0;34m,\u001b[0m \u001b[0;34m'csc'\u001b[0m\u001b[0;34m,\u001b[0m \u001b[0;34m'coo'\u001b[0m\u001b[0;34m]\u001b[0m\u001b[0;34m)\u001b[0m\u001b[0;34m\u001b[0m\u001b[0;34m\u001b[0m\u001b[0m\n\u001b[0m\u001b[1;32m    668\u001b[0m \u001b[0;34m\u001b[0m\u001b[0m\n\u001b[1;32m    669\u001b[0m         \u001b[0;31m# Make sure self.hidden_layer_sizes is a list\u001b[0m\u001b[0;34m\u001b[0m\u001b[0;34m\u001b[0m\u001b[0;34m\u001b[0m\u001b[0m\n",
      "\u001b[0;32m/usr/local/lib/python3.7/dist-packages/sklearn/utils/validation.py\u001b[0m in \u001b[0;36mcheck_array\u001b[0;34m(array, accept_sparse, accept_large_sparse, dtype, order, copy, force_all_finite, ensure_2d, allow_nd, ensure_min_samples, ensure_min_features, warn_on_dtype, estimator)\u001b[0m\n\u001b[1;32m    576\u001b[0m         \u001b[0;32mif\u001b[0m \u001b[0mforce_all_finite\u001b[0m\u001b[0;34m:\u001b[0m\u001b[0;34m\u001b[0m\u001b[0;34m\u001b[0m\u001b[0m\n\u001b[1;32m    577\u001b[0m             _assert_all_finite(array,\n\u001b[0;32m--> 578\u001b[0;31m                                allow_nan=force_all_finite == 'allow-nan')\n\u001b[0m\u001b[1;32m    579\u001b[0m \u001b[0;34m\u001b[0m\u001b[0m\n\u001b[1;32m    580\u001b[0m     \u001b[0;32mif\u001b[0m \u001b[0mensure_min_samples\u001b[0m \u001b[0;34m>\u001b[0m \u001b[0;36m0\u001b[0m\u001b[0;34m:\u001b[0m\u001b[0;34m\u001b[0m\u001b[0;34m\u001b[0m\u001b[0m\n",
      "\u001b[0;32m/usr/local/lib/python3.7/dist-packages/sklearn/utils/validation.py\u001b[0m in \u001b[0;36m_assert_all_finite\u001b[0;34m(X, allow_nan, msg_dtype)\u001b[0m\n\u001b[1;32m     38\u001b[0m     \u001b[0;34m\"\"\"Like assert_all_finite, but only for ndarray.\"\"\"\u001b[0m\u001b[0;34m\u001b[0m\u001b[0;34m\u001b[0m\u001b[0m\n\u001b[1;32m     39\u001b[0m     \u001b[0;31m# validation is also imported in extmath\u001b[0m\u001b[0;34m\u001b[0m\u001b[0;34m\u001b[0m\u001b[0;34m\u001b[0m\u001b[0m\n\u001b[0;32m---> 40\u001b[0;31m     \u001b[0;32mfrom\u001b[0m \u001b[0;34m.\u001b[0m\u001b[0mextmath\u001b[0m \u001b[0;32mimport\u001b[0m \u001b[0m_safe_accumulator_op\u001b[0m\u001b[0;34m\u001b[0m\u001b[0;34m\u001b[0m\u001b[0m\n\u001b[0m\u001b[1;32m     41\u001b[0m \u001b[0;34m\u001b[0m\u001b[0m\n\u001b[1;32m     42\u001b[0m     \u001b[0;32mif\u001b[0m \u001b[0m_get_config\u001b[0m\u001b[0;34m(\u001b[0m\u001b[0;34m)\u001b[0m\u001b[0;34m[\u001b[0m\u001b[0;34m'assume_finite'\u001b[0m\u001b[0;34m]\u001b[0m\u001b[0;34m:\u001b[0m\u001b[0;34m\u001b[0m\u001b[0;34m\u001b[0m\u001b[0m\n",
      "\u001b[0;32m/usr/lib/python3.7/importlib/_bootstrap.py\u001b[0m in \u001b[0;36m_handle_fromlist\u001b[0;34m(module, fromlist, import_, recursive)\u001b[0m\n",
      "\u001b[0;31mKeyboardInterrupt\u001b[0m: "
     ]
    }
   ],
   "source": [
    "n_sessions = 100\n",
    "percentile = 70\n",
    "\n",
    "log = []\n",
    "\n",
    "for _ in range(100):\n",
    "    # YOUR CODE HERE\n",
    "    # Generate new sessions, select elites and update our agent.\n",
    "    # Note: use functions we just defined.\n",
    "    sessions = [generate_session(env, agent) for _ in range(n_sessions)]\n",
    "    states_batch, actions_batch, rewards_batch = zip(*sessions)\n",
    "\n",
    "    elite_states, elite_actions = select_elites(\n",
    "        states_batch, \n",
    "        actions_batch, \n",
    "        rewards_batch, \n",
    "        percentile\n",
    "    )\n",
    "\n",
    "    agent.partial_fit(elite_states, elite_actions)\n",
    "\n",
    "    show_progress(\n",
    "        rewards_batch, \n",
    "        log, \n",
    "        percentile, \n",
    "        reward_range=[0, np.max(rewards_batch)]\n",
    "    )\n",
    "\n",
    "    if np.mean(rewards_batch) > 190:\n",
    "        print(\"You Win! You may stop training now via KeyboardInterrupt.\")"
   ]
  },
  {
   "cell_type": "markdown",
   "metadata": {
    "id": "V3QsLwz38h9h"
   },
   "source": [
    "### Analysing the results"
   ]
  },
  {
   "cell_type": "markdown",
   "metadata": {
    "id": "-k5Me6LS8lEt"
   },
   "source": [
    "Let's record a video of our agent playing."
   ]
  },
  {
   "cell_type": "code",
   "execution_count": 26,
   "metadata": {
    "id": "XvsGIMiA8Ka1"
   },
   "outputs": [],
   "source": [
    "import gym.wrappers\n",
    "\n",
    "with gym.wrappers.Monitor(gym.make(\"CartPole-v0\"), directory=\"videos\", force=True) as env_monitor:\n",
    "    sessions = [generate_session(env_monitor, agent) for _ in range(100)]"
   ]
  },
  {
   "cell_type": "code",
   "execution_count": 27,
   "metadata": {
    "colab": {
     "base_uri": "https://localhost:8080/",
     "height": 501
    },
    "id": "VPoe8GIu8rQx",
    "outputId": "cf6dfe8b-7a15-4eb7-8f66-231a7bd0aac9"
   },
   "outputs": [
    {
     "data": {
      "text/html": [
       "\n",
       "<video width=\"640\" height=\"480\" controls>\n",
       "  <source src=\"data:video/mp4;base64,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\" type=\"video/mp4\">\n",
       "</video>\n"
      ],
      "text/plain": [
       "<IPython.core.display.HTML object>"
      ]
     },
     "execution_count": 27,
     "metadata": {},
     "output_type": "execute_result"
    }
   ],
   "source": [
    "from pathlib import Path\n",
    "from base64 import b64encode\n",
    "from IPython.display import HTML\n",
    "\n",
    "video_paths = sorted([file for file in Path(\"videos\").iterdir() if file.suffix == \".mp4\"])\n",
    "video_path = video_paths[-1]  # You can also try other indices\n",
    "\n",
    "if \"google.colab\" in sys.modules:\n",
    "    # https://stackoverflow.com/a/57378660/1214547\n",
    "    with video_path.open(\"rb\") as fp:\n",
    "        mp4 = fp.read()\n",
    "    data_url = \"data:video/mp4;base64,\" + b64encode(mp4).decode()\n",
    "else:\n",
    "    data_url = str(video_path)\n",
    "\n",
    "HTML(\"\"\"\n",
    "<video width=\"640\" height=\"480\" controls>\n",
    "  <source src=\"{}\" type=\"video/mp4\">\n",
    "</video>\n",
    "\"\"\".format(data_url))"
   ]
  },
  {
   "cell_type": "markdown",
   "metadata": {},
   "source": [
    "## Bonus area I"
   ]
  },
  {
   "cell_type": "markdown",
   "metadata": {},
   "source": [
    "### Tabular crossentropy method"
   ]
  },
  {
   "cell_type": "markdown",
   "metadata": {},
   "source": [
    "You may have noticed that the taxi problem quickly converges from -100 to a near-optimal score and then descends back into -50/-100. This is in part because the environment has some innate randomness. Namely, the starting points of passenger/driver change from episode to episode."
   ]
  },
  {
   "cell_type": "markdown",
   "metadata": {},
   "source": [
    "### Tasks"
   ]
  },
  {
   "cell_type": "markdown",
   "metadata": {},
   "source": [
    "- __1.1__ (1 pts) Find out how the algorithm performance changes if you use a different `percentile` and/or `n_sessions`.\n",
    "- __1.2__ (2 pts) Tune the algorithm to end up with positive average score.\n",
    "\n",
    "It's okay to modify the existing code."
   ]
  },
  {
   "cell_type": "markdown",
   "metadata": {},
   "source": [
    "```<Describe what you did here.  Preferably with plot/report to support it.>```"
   ]
  },
  {
   "cell_type": "markdown",
   "metadata": {},
   "source": [
    "## Bonus area II"
   ]
  },
  {
   "cell_type": "markdown",
   "metadata": {},
   "source": [
    "### Deep crossentropy method"
   ]
  },
  {
   "cell_type": "markdown",
   "metadata": {},
   "source": [
    "By this moment you should have got enough score on [CartPole-v0](https://gym.openai.com/envs/CartPole-v0) to consider it solved (see the link). It's time to try something harder.\n",
    "\n",
    "> Note: if you have any trouble with CartPole-v0 and feel stuck, feel free to ask us or your peers for help."
   ]
  },
  {
   "cell_type": "markdown",
   "metadata": {},
   "source": [
    "### Tasks"
   ]
  },
  {
   "cell_type": "markdown",
   "metadata": {},
   "source": [
    "* __2.1__ (3 pts) Pick one of environments: MountainCar-v0 or LunarLander-v2.\n",
    "  * For MountainCar, get average reward of __at least -150__\n",
    "  * For LunarLander, get average reward of __at least +50__\n",
    "\n",
    "See the tips section below, it's kinda important.\n",
    "__Note:__ If your agent is below the target score, you'll still get most of the points depending on the result, so don't be afraid to submit it.\n",
    "  \n",
    "  \n",
    "* __2.2__ (bonus: 4++ pt) Devise a way to speed up training at least 2x against the default version\n",
    "  * Obvious improvement: use [joblib](https://www.google.com/search?client=ubuntu&channel=fs&q=joblib&ie=utf-8&oe=utf-8)\n",
    "  * Try re-using samples from 3-5 last iterations when computing threshold and training\n",
    "  * Experiment with amount of training iterations and learning rate of the neural network (see params)\n",
    "  * __Please list what you did in anytask submission form__"
   ]
  },
  {
   "cell_type": "markdown",
   "metadata": {},
   "source": [
    "### Tips"
   ]
  },
  {
   "cell_type": "markdown",
   "metadata": {},
   "source": [
    "* Gym page: [MountainCar](https://gym.openai.com/envs/MountainCar-v0), [LunarLander](https://gym.openai.com/envs/LunarLander-v2)\n",
    "* Sessions for MountainCar may last for 10k+ ticks. Make sure ```t_max``` param is at least 10k.\n",
    " * Also it may be a good idea to cut rewards via \">\" and not \">=\". If 90% of your sessions get reward of -10k and 20% are better, than if you use percentile 20% as threshold, R >= threshold __fails cut off bad sessions__ whule R > threshold works alright.\n",
    "* _issue with gym_: Some versions of gym limit game time by 200 ticks. This will prevent cem training in most cases. Make sure your agent is able to play for the specified __t_max__, and if it isn't, try `env = gym.make(\"MountainCar-v0\").env` or otherwise get rid of TimeLimit wrapper.\n",
    "* If you use old _swig_ lib for LunarLander-v2, you may get an error. See this [issue](https://github.com/openai/gym/issues/100) for solution.\n",
    "* If it won't train it's a good idea to plot reward distribution and record sessions: they may give you some clue. If they don't, call course staff :)\n",
    "* 20-neuron network is probably not enough, feel free to experiment.\n",
    "\n",
    "You may find the following snippet useful:"
   ]
  },
  {
   "cell_type": "code",
   "execution_count": null,
   "metadata": {},
   "outputs": [],
   "source": [
    "def visualize_mountain_car(env, agent):\n",
    "    xs = np.linspace(env.min_position, env.max_position, 100)\n",
    "    vs = np.linspace(-env.max_speed, env.max_speed, 100)\n",
    "    grid = np.dstack(np.meshgrid(xs, vs)).transpose(1, 0, 2)\n",
    "    grid_flat = grid.reshape(len(xs) * len(vs), 2)\n",
    "    probs = agent.predict_proba(grid_flat).reshape(len(xs), len(vs), 3)\n",
    "    return probs\n",
    "\n",
    "plt.imshow(visualize_mountain_car(env, agent))"
   ]
  },
  {
   "cell_type": "markdown",
   "metadata": {},
   "source": [
    "### More bonus tasks"
   ]
  },
  {
   "cell_type": "markdown",
   "metadata": {},
   "source": [
    "* __2.3 bonus__ Try to find a network architecture and training params that solve __both__ environments above (_Points depend on implementation. If you attempted this task, please mention it in anytask submission._)\n",
    "\n",
    "* __2.4 bonus__ Solve continuous action space task with `MLPRegressor` or similar.\n",
    "  * Start with [\"Pendulum-v0\"](https://github.com/openai/gym/wiki/Pendulum-v0).\n",
    "  * Since your agent only predicts the \"expected\" action, you will have to add noise to ensure exploration.\n",
    "  * [MountainCarContinuous-v0](https://gym.openai.com/envs/MountainCarContinuous-v0), [LunarLanderContinuous-v2](https://gym.openai.com/envs/LunarLanderContinuous-v2) \n",
    "  * 4 points for solving. Slightly less for getting some results below solution threshold. Note that discrete and continuous environments may have slightly different rules aside from action spaces."
   ]
  },
  {
   "cell_type": "code",
   "execution_count": null,
   "metadata": {
    "id": "jhPikS1q1kAT"
   },
   "outputs": [],
   "source": []
  }
 ],
 "metadata": {
  "colab": {
   "collapsed_sections": [],
   "name": "seminar_gym_interface.ipynb",
   "provenance": []
  },
  "kernelspec": {
   "display_name": "Python 3 (ipykernel)",
   "language": "python",
   "name": "python3"
  },
  "language_info": {
   "codemirror_mode": {
    "name": "ipython",
    "version": 3
   },
   "file_extension": ".py",
   "mimetype": "text/x-python",
   "name": "python",
   "nbconvert_exporter": "python",
   "pygments_lexer": "ipython3",
   "version": "3.9.7"
  }
 },
 "nbformat": 4,
 "nbformat_minor": 4
}
